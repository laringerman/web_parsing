{
 "cells": [
  {
   "cell_type": "code",
   "execution_count": 4,
   "metadata": {},
   "outputs": [
    {
     "name": "stderr",
     "output_type": "stream",
     "text": [
      "/var/folders/bg/80cy77jj6g133v4_zq7nsr200000gn/T/ipykernel_2194/1222050232.py:3: DeprecationWarning: \n",
      "Pyarrow will become a required dependency of pandas in the next major release of pandas (pandas 3.0),\n",
      "(to allow more performant data types, such as the Arrow string type, and better interoperability with other libraries)\n",
      "but was not found to be installed on your system.\n",
      "If this would cause problems for you,\n",
      "please provide us feedback at https://github.com/pandas-dev/pandas/issues/54466\n",
      "        \n",
      "  import pandas as pd\n"
     ]
    }
   ],
   "source": [
    "import requests\n",
    "from bs4 import BeautifulSoup\n",
    "import pandas as pd"
   ]
  },
  {
   "cell_type": "code",
   "execution_count": 9,
   "metadata": {},
   "outputs": [],
   "source": [
    "data = []"
   ]
  },
  {
   "cell_type": "code",
   "execution_count": 10,
   "metadata": {},
   "outputs": [
    {
     "name": "stdout",
     "output_type": "stream",
     "text": [
      "2 6\n",
      "3 6\n",
      "4 6\n",
      "5 6\n",
      "6 6\n",
      "7 7\n",
      "8 8\n",
      "9 9\n",
      "10 10\n",
      "11 11\n",
      "12 12\n",
      "13 13\n",
      "14 14\n",
      "15 15\n",
      "16 16\n",
      "17 17\n",
      "18 18\n",
      "19 19\n",
      "20 20\n",
      "21 21\n",
      "22 21\n"
     ]
    }
   ],
   "source": [
    "\n",
    "page = 1\n",
    "max_page = 1\n",
    "while page <= max_page:\n",
    "\n",
    "    res = requests.get(f'https://ryvok.ru/instrumenty/shlifmashiny/?page={page}')\n",
    "    soup = BeautifulSoup(res.text, 'html')\n",
    "\n",
    "    elements = soup.find_all('div', class_='ui-product-card-vertical-v2__wrap')\n",
    "\n",
    "    for e in elements:\n",
    "        \n",
    "        data.append({\n",
    "        'title ' : e.find('div',  class_='ui-product-card-vertical-v2__title').text.strip(),\n",
    "        'status' : e.find('div',  class_='ui-product-card-vertical-v2__status').text.strip(),\n",
    "        'price ' : e.find('div',  class_='ui-product-card-vertical-v2__price').text.strip().replace('\\xa0', '').replace(' ₽', '')\n",
    "        })\n",
    "\n",
    "    pagination = soup.find('div', class_='ui-pagination__numbers')\n",
    "    pages = [p.text.strip() for p in pagination.find_all('div', class_='ui-pagination__number')]\n",
    "    int_pages = []\n",
    "    for p in pages:\n",
    "        try:\n",
    "            n = int(p)\n",
    "            int_pages.append(n)\n",
    "        except:\n",
    "            continue\n",
    "\n",
    "\n",
    "    page += 1\n",
    "    max_page = max(int_pages)\n",
    "    print(page, max_page)"
   ]
  },
  {
   "cell_type": "code",
   "execution_count": 11,
   "metadata": {},
   "outputs": [],
   "source": [
    "df = pd.DataFrame(data)"
   ]
  }
 ],
 "metadata": {
  "kernelspec": {
   "display_name": "venv",
   "language": "python",
   "name": "python3"
  },
  "language_info": {
   "codemirror_mode": {
    "name": "ipython",
    "version": 3
   },
   "file_extension": ".py",
   "mimetype": "text/x-python",
   "name": "python",
   "nbconvert_exporter": "python",
   "pygments_lexer": "ipython3",
   "version": "3.11.7"
  }
 },
 "nbformat": 4,
 "nbformat_minor": 2
}
